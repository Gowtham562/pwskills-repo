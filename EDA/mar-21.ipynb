{
 "cells": [
  {
   "cell_type": "markdown",
   "id": "195de882-98f4-4e1c-95e8-533021855314",
   "metadata": {},
   "source": [
    "### Question 1"
   ]
  },
  {
   "cell_type": "code",
   "execution_count": null,
   "id": "a8c07f06-02dd-4e1f-a7ac-c109d950abcd",
   "metadata": {},
   "outputs": [],
   "source": [
    "'''\n",
    "ordinal encoding is used when there is the internal order in the categories eg. 'small','medium','large'\n",
    "\n",
    "label encoding just assign an unique value for each unique category. eg: 'red' 'blue' 'green'\n",
    "\n",
    "'''"
   ]
  },
  {
   "cell_type": "markdown",
   "id": "5634a501-4d33-40bb-a344-8d9968cb1025",
   "metadata": {},
   "source": [
    "### Question 2"
   ]
  },
  {
   "cell_type": "code",
   "execution_count": null,
   "id": "318dfc49-2873-4005-a73d-e4606c78ba1e",
   "metadata": {},
   "outputs": [],
   "source": [
    "'''\n",
    "Target Guided Ordinal Encoding is a technique used to encode categorical variables based on their relationship with the target variable in a supervised machine learning project. \n",
    "It assigns ordinal labels to the categories based on the target variable's mean or median value for each category. This encoding captures the monotonic relationship between the \n",
    "categorical variable and the target variable, making it useful when the categorical variable has predictive power for the target variable.\n",
    "\n",
    "Here's an example to illustrate the application of Target Guided Ordinal Encoding:\n",
    "\n",
    "Suppose you are working on a credit card default prediction project, and one of the categorical variables in the dataset is \"Education Level\" with categories \"High School,\"\n",
    "\"College,\" and \"Graduate.\" The target variable is \"Default\" indicating whether a customer defaults on their credit card payment.\n",
    "\n",
    "To apply Target Guided Ordinal Encoding, you would calculate the mean or median default rate for each category of the \"Education Level\" variable. The categories can then be \n",
    "assigned ordinal labels based on their default rates. For instance, if the default rates are 0.2, 0.4, and 0.6 for \"High School,\" \"College,\" and \"Graduate\" categories, \n",
    "respectively, you would assign ordinal labels 1, 2, and 3 based on the ascending order of default rates.\n",
    "\n",
    "By encoding the \"Education Level\" variable using Target Guided Ordinal Encoding, the model can capture the information about the target variable's behavior for each category. \n",
    "This encoding technique takes advantage of the relationship between the categorical variable and the target variable, potentially improving the model's predictive performance.\n",
    "\n",
    "Target Guided Ordinal Encoding can be particularly useful when there is a clear monotonic relationship between the categorical variable and the target variable. It allows the \n",
    "model to leverage this relationship during training, enhancing its ability to make accurate predictions. However, it's important to note that this encoding technique assumes \n",
    "a monotonic relationship and may not be suitable for all categorical variables or datasets.\n",
    "\n",
    "'''"
   ]
  },
  {
   "cell_type": "markdown",
   "id": "52fbaf7b-1814-4d05-b16c-ead41a6d6454",
   "metadata": {},
   "source": [
    "### Question 3"
   ]
  },
  {
   "cell_type": "code",
   "execution_count": null,
   "id": "2c703c29-f08d-46dc-99e6-49dcec8c856a",
   "metadata": {},
   "outputs": [],
   "source": [
    "'''\n",
    "Covariance is a statistical measure that quantifies the relationship between two variables.\n",
    "\n",
    "The formula to calculate the covariance between two variables X and Y is as follows:\n",
    "\n",
    "Cov(X, Y) = Σ [(Xᵢ - X̄) * (Yᵢ - Ȳ)] / (n - 1)\n",
    "\n",
    "where Xᵢ and Yᵢ are the individual values of X and Y, X̄ and Ȳ are the means of X and Y, \n",
    "and n is the number of observations.\n",
    "\n",
    "In this formula, (Xᵢ - X̄) represents the deviation of each X value from its mean, and \n",
    "(Yᵢ - Ȳ) represents the deviation of each Y value from its mean. The covariance is \n",
    "obtained by summing the product of these deviations and dividing by (n - 1).\n",
    "\n",
    "'''"
   ]
  },
  {
   "cell_type": "markdown",
   "id": "763dd9c7-8758-473a-b5a8-e24df7303a03",
   "metadata": {},
   "source": [
    "### Question 4"
   ]
  },
  {
   "cell_type": "code",
   "execution_count": 5,
   "id": "d77a6f2e-282e-47a5-96a3-bf2f139b55c7",
   "metadata": {},
   "outputs": [
    {
     "name": "stdout",
     "output_type": "stream",
     "text": [
      "   Color  Size  Material\n",
      "0      2     2         2\n",
      "1      1     1         0\n",
      "2      0     0         1\n",
      "3      2     2         2\n",
      "4      0     1         0\n"
     ]
    }
   ],
   "source": [
    "from sklearn.preprocessing import LabelEncoder\n",
    "import pandas as pd\n",
    "\n",
    "# Create a sample dataset\n",
    "data = {\n",
    "    'Color': ['red', 'green', 'blue', 'red', 'blue'],\n",
    "    'Size': ['small', 'medium', 'large', 'small', 'medium'],\n",
    "    'Material': ['wood', 'metal', 'plastic', 'wood', 'metal']\n",
    "}\n",
    "\n",
    "df = pd.DataFrame(data)\n",
    "\n",
    "# Perform label encoding\n",
    "label_encoder = LabelEncoder()\n",
    "\n",
    "df_encoded = df.copy()\n",
    "for column in df_encoded.columns:\n",
    "    df_encoded[column] = label_encoder.fit_transform(df_encoded[column])\n",
    "\n",
    "print(df_encoded)\n"
   ]
  },
  {
   "cell_type": "code",
   "execution_count": null,
   "id": "92d634de-13a0-4def-86be-a6d1a48cb472",
   "metadata": {},
   "outputs": [],
   "source": [
    "'''\n",
    "Explanation:\n",
    "In the code, we import the necessary libraries, create a sample dataset with three categorical variables: Color, Size, and Material. We then use the LabelEncoder \n",
    "class to perform label encoding on each column of the dataset. The label encoding is done by mapping each unique category in a column to a numerical label.\n",
    "\n",
    "The resulting df_encoded DataFrame contains the encoded values for each categorical variable. Each unique category within a column is represented by a numerical label. \n",
    "For example, in the \"Color\" column, \"red\" is encoded as 2, \"green\" as 1, and \"blue\" as 0. Similarly, the \"Size\" column is encoded as 2 for \"small\", 0 for \"medium\", \n",
    "and 1 for \"large\". The \"Material\" column is encoded as 2 for \"wood\", 1 for \"metal\", and 0 for \"plastic\".\n",
    "\n",
    "Label encoding is useful when dealing with categorical variables in machine learning models as it allows the algorithms to work with numerical representations of the \n",
    "categories. However, it's important to note that label encoding introduces an arbitrary ordinal relationship between the labels, which may not always be appropriate \n",
    "for all categorical variables.\n",
    "\n",
    "'''"
   ]
  },
  {
   "cell_type": "markdown",
   "id": "68442c5e-5da8-4974-af6a-317b387e523e",
   "metadata": {},
   "source": [
    "### Question 5"
   ]
  },
  {
   "cell_type": "code",
   "execution_count": 6,
   "id": "d15d301a-9ad7-4e4f-a32a-5f159701b8e0",
   "metadata": {},
   "outputs": [
    {
     "name": "stdout",
     "output_type": "stream",
     "text": [
      "[[4.45e+01 8.00e+04 1.00e+00]\n",
      " [8.00e+04 1.45e+08 1.25e+03]\n",
      " [1.00e+00 1.25e+03 5.00e+00]]\n"
     ]
    }
   ],
   "source": [
    "import numpy as np\n",
    "\n",
    "# Create a sample dataset\n",
    "age = [25, 30, 35, 28, 42]\n",
    "income = [50000, 60000, 70000, 55000, 80000]\n",
    "education_level = [12, 16, 14, 18, 15]\n",
    "\n",
    "# Create a matrix with the variables\n",
    "data = np.array([age, income, education_level])\n",
    "\n",
    "# Calculate the covariance matrix\n",
    "covariance_matrix = np.cov(data)\n",
    "\n",
    "print(covariance_matrix)\n"
   ]
  },
  {
   "cell_type": "markdown",
   "id": "b2230b1c-027a-4177-812a-c514d273e4a2",
   "metadata": {},
   "source": [
    "### Question 6"
   ]
  },
  {
   "cell_type": "code",
   "execution_count": null,
   "id": "f4760ba9-9d8d-45a8-8aba-d3ed0ca2f48a",
   "metadata": {},
   "outputs": [],
   "source": [
    "'''\n",
    "for Gender column, binary encoding\n",
    "\n",
    "for Education Level, ordinal encoding\n",
    "\n",
    "for Employment Status. one hot encoding\n",
    "\n",
    "'''"
   ]
  },
  {
   "cell_type": "markdown",
   "id": "f1dad1cc-2334-43a6-ae3e-a4ea34f8c465",
   "metadata": {},
   "source": [
    "### Question 7"
   ]
  },
  {
   "cell_type": "code",
   "execution_count": 8,
   "id": "1bbcf5ee-8628-4745-be15-da85908e64b7",
   "metadata": {},
   "outputs": [
    {
     "name": "stdout",
     "output_type": "stream",
     "text": [
      "[[10.2 18.9]\n",
      " [18.9 35.3]]\n"
     ]
    }
   ],
   "source": [
    "import numpy as np\n",
    "\n",
    "# Create a sample dataset\n",
    "temperature = [25, 28, 30, 22, 24]\n",
    "humidity = [60, 65, 70, 55, 58]\n",
    "weather_condition = ['Sunny', 'Cloudy', 'Rainy', 'Cloudy', 'Sunny']\n",
    "wind_direction = ['North', 'South', 'East', 'West', 'North']\n",
    "\n",
    "# Create a matrix with the variables\n",
    "data = np.array([temperature, humidity])\n",
    "\n",
    "# Calculate the covariance matrix\n",
    "covariance_matrix = np.cov(data)\n",
    "\n",
    "print(covariance_matrix)\n"
   ]
  }
 ],
 "metadata": {
  "kernelspec": {
   "display_name": "Python 3 (ipykernel)",
   "language": "python",
   "name": "python3"
  },
  "language_info": {
   "codemirror_mode": {
    "name": "ipython",
    "version": 3
   },
   "file_extension": ".py",
   "mimetype": "text/x-python",
   "name": "python",
   "nbconvert_exporter": "python",
   "pygments_lexer": "ipython3",
   "version": "3.10.8"
  }
 },
 "nbformat": 4,
 "nbformat_minor": 5
}
