{
 "cells": [
  {
   "cell_type": "markdown",
   "id": "66823038-6396-41f5-ae39-422dcaf38376",
   "metadata": {},
   "source": [
    "## Question 1"
   ]
  },
  {
   "cell_type": "code",
   "execution_count": null,
   "id": "cb9f1a9b-78ce-40fd-b6f8-9775cf8ed9af",
   "metadata": {},
   "outputs": [],
   "source": [
    "'''\n",
    "missing values are nan values\n",
    "training can't be possible with missing values.\n",
    "\n",
    "Algorithms that are not affected by missing values : \n",
    "Decision Trees,PCA,AdaBoost,Gaussian Mixture Models \n",
    "\n",
    "'''"
   ]
  },
  {
   "cell_type": "markdown",
   "id": "256e9fca-931f-4b2b-aaa5-3c8e7438c534",
   "metadata": {},
   "source": [
    "## Question 2"
   ]
  },
  {
   "cell_type": "code",
   "execution_count": null,
   "id": "bf521568-7f9f-4798-9f9f-b1ac7aeb14ae",
   "metadata": {},
   "outputs": [],
   "source": [
    "'''\n",
    "IMPUTATION: mean,median,mode\n",
    "\n",
    "INTERPOLATION: linear,polynomial,nearest nieghbour\n",
    "'''"
   ]
  },
  {
   "cell_type": "code",
   "execution_count": null,
   "id": "2d34de20-8647-4a9f-8b83-ae7ee422da57",
   "metadata": {},
   "outputs": [],
   "source": [
    "# Imputing missing values with mean\n",
    "df['column_name'].fillna(df['column_name'].mean(), inplace=True)\n",
    "\n",
    "# Imputing missing values with median\n",
    "df['column_name'].fillna(df['column_name'].median(), inplace=True)\n",
    "\n",
    "df['column_name'].interpolate(method='linear', inplace=True)\n",
    "\n",
    "df['column_name'].interpolate(method='polynomial', order=2, inplace=True)\n"
   ]
  },
  {
   "cell_type": "markdown",
   "id": "4952a687-f5a0-452a-86f7-a63ce60a0c49",
   "metadata": {},
   "source": [
    "## Question 3"
   ]
  },
  {
   "cell_type": "code",
   "execution_count": null,
   "id": "1cc36539-79b5-4dde-909b-b6e789cca5f9",
   "metadata": {},
   "outputs": [],
   "source": [
    "'''\n",
    "Imbalanced data refers to a situation where the distribution of classes in a dataset is highly skewed, with one class being \n",
    "significantly more prevalent than the others. For example, in a binary classification problem, if 95% of the samples belong\n",
    "to one class (majority class) and only 5% belong to the other class (minority class), it is considered imbalanced data.\n",
    "\n",
    "Some consequences of not handling imbalanced data include:\n",
    "\n",
    "Biased Classification: Models trained on imbalanced data tend to have a bias towards the majority class. They may achieve high\n",
    "accuracy by simply predicting the majority class most of the time, while performing poorly on the minority class.\n",
    "\n",
    "Poor Generalization: Imbalanced data can cause models to generalize poorly to new, unseen data. They may struggle to correctly \n",
    "classify instances from the minority class, as they are underrepresented in the training data.\n",
    "\n",
    "Misleading Evaluation Metrics: Traditional evaluation metrics like accuracy can be misleading when dealing with imbalanced data.\n",
    "Models that predict only the majority class can appear to perform well in terms of accuracy, even though they are not effectively capturing the patterns in the minority class.\n",
    "\n",
    "'''"
   ]
  },
  {
   "cell_type": "markdown",
   "id": "8539bed9-7cfc-4d6c-ad3a-efd5aa932973",
   "metadata": {},
   "source": [
    "## Question 4"
   ]
  },
  {
   "cell_type": "code",
   "execution_count": null,
   "id": "78c6333c-84a2-46d7-b128-b7742d4c1185",
   "metadata": {},
   "outputs": [],
   "source": [
    "'''\n",
    "Up-sampling: Up-sampling involves randomly replicating samples from the minority class to increase its representation. \n",
    "Example: Suppose you have a binary classification problem with a dataset containing 100 instances, where 90 instances \n",
    "belong to the majority class and only 10 instances belong to the minority class. In this case, up-sampling can be used to \n",
    "randomly duplicate samples from the minority class until both classes have an equal number of instances.\n",
    "\n",
    "Down-sampling: Down-sampling involves randomly removing samples from the majority class to decrease its representation. \n",
    "Example: Consider the same binary classification problem mentioned earlier with 100 instances, where 90 instances belong\n",
    "to the majority class and 10 instances belong to the minority class. In this case, down-sampling can be used to randomly \n",
    "remove samples from the majority class until both classes have an equal number of instances.\n",
    "\n",
    "'''"
   ]
  },
  {
   "cell_type": "markdown",
   "id": "79e6d9bd-8745-487e-acc3-890f6be336f2",
   "metadata": {},
   "source": [
    "## Question 5"
   ]
  },
  {
   "cell_type": "code",
   "execution_count": null,
   "id": "e7478380-9bcb-4371-88e4-cd7f122fb77e",
   "metadata": {},
   "outputs": [],
   "source": [
    "'''\n",
    "Data augmentation is a technique used to artificially increase the size of a dataset by creating new samples through various modifications of the existing data. \n",
    "It is commonly used in machine learning to address limited data scenarios and improve model performance.\n",
    "\n",
    "SMOTE (Synthetic Minority Over-sampling Technique) is a specific data augmentation technique designed for imbalanced classification problems. It focuses on \n",
    "addressing the imbalance between the minority and majority classes by generating synthetic samples of the minority class.\n",
    "'''"
   ]
  },
  {
   "cell_type": "markdown",
   "id": "8484d3b9-3137-4cd5-a47a-3e550f0d440e",
   "metadata": {},
   "source": [
    "## Question 6"
   ]
  },
  {
   "cell_type": "code",
   "execution_count": null,
   "id": "56a7ea65-afde-4cf8-8af6-b0e16b32d85e",
   "metadata": {},
   "outputs": [],
   "source": [
    "'''\n",
    "Outliers are data points that significantly deviate from the normal pattern or distribution of the rest of the data.\n",
    "\n",
    "It is essential to handle outliers for the following reasons:\n",
    "\n",
    "Data Integrity: Outliers can occur due to errors in data collection or measurement. Handling outliers ensures data integrity\n",
    "by identifying and addressing potential data errors or anomalies.\n",
    "\n",
    "Model Performance: Outliers can have a significant impact on statistical analyses and machine learning models. They can distort\n",
    "the overall distribution, affect the estimation of parameters, and lead to biased results. Handling outliers helps in building\n",
    "more accurate and reliable models.\n",
    "\n",
    "Data Interpretation: Outliers can skew the interpretation of data and misrepresent the underlying patterns or relationships.\n",
    "By handling outliers, we can obtain a more accurate understanding of the data and make informed decisions.\n",
    "\n",
    "Robustness: Outliers can have a disproportionate influence on certain algorithms or statistical measures that are sensitive to \n",
    "extreme values. Handling outliers improves the robustness of the analysis or model by reducing their influence and making the results \n",
    "more stable and reliable.\n",
    "'''"
   ]
  },
  {
   "cell_type": "markdown",
   "id": "a5773b8f-5a69-4211-9459-589b4e70cbf3",
   "metadata": {},
   "source": [
    "## Question 7"
   ]
  },
  {
   "cell_type": "code",
   "execution_count": null,
   "id": "842131b8-ae80-48e5-b708-ad652f8e18c9",
   "metadata": {},
   "outputs": [],
   "source": [
    "'''\n",
    "I can handle them by data IMPUTATION or infer the values by interpolation techniques\n",
    "\n",
    "'''"
   ]
  },
  {
   "cell_type": "markdown",
   "id": "06eaaf5e-b4a9-48f7-99db-2af63614f03d",
   "metadata": {},
   "source": [
    "## Question 8"
   ]
  },
  {
   "cell_type": "code",
   "execution_count": null,
   "id": "0d7eaea0-2472-4b4f-84ca-04fd59775480",
   "metadata": {},
   "outputs": [],
   "source": [
    "'''\n",
    "\n",
    "for random missing value i will use mean imputation\n",
    "\n",
    "for patternly missing SMOTE could be used\n",
    "\n",
    "'''"
   ]
  },
  {
   "cell_type": "markdown",
   "id": "7363fff3-1876-47b4-9d60-db24b0a322a7",
   "metadata": {},
   "source": [
    "## Question 9"
   ]
  },
  {
   "cell_type": "code",
   "execution_count": null,
   "id": "e54633c1-f6a8-49ce-9016-afada0719884",
   "metadata": {},
   "outputs": [],
   "source": [
    "'''\n",
    "\n",
    "When dealing with imbalanced datasets in a medical diagnosis project, where the majority of patients do not have the condition of interest, it is crucial to \n",
    "adopt appropriate strategies to evaluate the performance of machine learning models. Here are some strategies to consider:\n",
    "\n",
    "Use Evaluation Metrics: Avoid relying solely on accuracy, as it can be misleading in imbalanced datasets. Instead, focus on evaluation metrics that are more\n",
    "suitable for imbalanced data, such as precision, recall, F1-score, or area under the receiver operating characteristic curve (AUC-ROC).\n",
    "\n",
    "Confusion Matrix Analysis: Examine the confusion matrix to gain insights into true positives, true negatives, false positives, and false negatives. This \n",
    "analysis helps understand the model's performance in correctly identifying positive cases (patients with the condition) and negative cases \n",
    "(patients without the condition).\n",
    "\n",
    "Resampling Techniques: Employ resampling techniques to balance the dataset. Upsampling the minority class (patients with the condition) or downsampling the\n",
    "majority class (patients without the condition) can help address the class imbalance and improve model performance. Techniques like SMOTE (Synthetic Minority \n",
    "Over-sampling Technique) can be useful for synthetic data generation in the minority class.\n",
    "\n",
    "'''"
   ]
  },
  {
   "cell_type": "markdown",
   "id": "8e806665-2838-46ad-be35-30bbbeb7c05b",
   "metadata": {},
   "source": [
    "## Question 10"
   ]
  },
  {
   "cell_type": "code",
   "execution_count": null,
   "id": "d8970804-5bcd-4f62-826f-1761496b26bf",
   "metadata": {},
   "outputs": [],
   "source": [
    "'''\n",
    "When dealing with an unbalanced dataset in the context of estimating customer satisfaction, where the majority of customers report being satisfied, \n",
    "you can employ various methods to balance the dataset and down-sample the majority class.\n",
    "\n",
    "METHODS: Random Undersampling,NearMiss etc...\n",
    "\n",
    "'''"
   ]
  },
  {
   "cell_type": "markdown",
   "id": "972c57eb-7e93-47f1-a681-78a1d8c6f07c",
   "metadata": {},
   "source": [
    "## Question 11"
   ]
  },
  {
   "cell_type": "code",
   "execution_count": null,
   "id": "8c598b9c-b497-43a9-8278-29ef7796f713",
   "metadata": {},
   "outputs": [],
   "source": [
    "'''\n",
    "When dealing with an unbalanced dataset that has a low percentage of occurrences of a rare event, you can employ various\n",
    "methods to balance the dataset and up-sample the minority class. \n",
    "\n",
    "Here are some techniques you can consider:\n",
    "\n",
    "Random Oversampling,Synthetic Minority Over-sampling Technique, Synthetic Minority Over-sampling Technique for Nominal and Continuous (SMOTE-NC).\n",
    "\n",
    "'''"
   ]
  }
 ],
 "metadata": {
  "kernelspec": {
   "display_name": "Python 3 (ipykernel)",
   "language": "python",
   "name": "python3"
  },
  "language_info": {
   "codemirror_mode": {
    "name": "ipython",
    "version": 3
   },
   "file_extension": ".py",
   "mimetype": "text/x-python",
   "name": "python",
   "nbconvert_exporter": "python",
   "pygments_lexer": "ipython3",
   "version": "3.10.8"
  }
 },
 "nbformat": 4,
 "nbformat_minor": 5
}
