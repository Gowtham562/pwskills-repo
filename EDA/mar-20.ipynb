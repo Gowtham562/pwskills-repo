{
 "cells": [
  {
   "cell_type": "markdown",
   "id": "195de882-98f4-4e1c-95e8-533021855314",
   "metadata": {},
   "source": [
    "### Question 1"
   ]
  },
  {
   "cell_type": "code",
   "execution_count": null,
   "id": "a8c07f06-02dd-4e1f-a7ac-c109d950abcd",
   "metadata": {},
   "outputs": [],
   "source": [
    "'''\n",
    "Data encoding refers to the process of converting data from one representation to another, typically from a human-readable or categorical format to a \n",
    "numerical format that can be processed by machine learning algorithms. \n",
    "\n",
    "Data encoding is useful in data science because:\n",
    "\n",
    "Numerical representation: Most machine learning algorithms require numerical inputs. Data encoding allows categorical or textual data to be represented \n",
    "numerically, enabling the use of these variables in predictive models.\n",
    "Feature engineering: Data encoding can be a part of feature engineering, where variables are transformed or created to enhance the predictive power of \n",
    "a model.\n",
    "\n",
    "'''"
   ]
  },
  {
   "cell_type": "markdown",
   "id": "5634a501-4d33-40bb-a344-8d9968cb1025",
   "metadata": {},
   "source": [
    "### Question 2"
   ]
  },
  {
   "cell_type": "code",
   "execution_count": null,
   "id": "318dfc49-2873-4005-a73d-e4606c78ba1e",
   "metadata": {},
   "outputs": [],
   "source": [
    "'''\n",
    "Nominal encoding, also known as one-hot encoding or dummy encoding, is a technique used to convert categorical variables with no inherent order or ranking\n",
    "into a numerical representation. It creates binary columns for each category, where a value of 1 indicates the presence of that category and 0 indicates\n",
    "its absence.\n",
    "\n",
    "Here's an example of how you would use nominal encoding in a real-world scenario:\n",
    "\n",
    "Suppose you are working on a customer churn prediction project for a telecom company. One of the features in your dataset is \"Internet Service,\" which has \n",
    "categories like \"DSL,\" \"Fiber Optic,\" and \"No.\" Since these categories have no inherent order, you would use nominal encoding to convert this feature into \n",
    "binary columns.\n",
    "\n",
    "'''"
   ]
  },
  {
   "cell_type": "markdown",
   "id": "52fbaf7b-1814-4d05-b16c-ead41a6d6454",
   "metadata": {},
   "source": [
    "### Question 3"
   ]
  },
  {
   "cell_type": "code",
   "execution_count": null,
   "id": "2c703c29-f08d-46dc-99e6-49dcec8c856a",
   "metadata": {},
   "outputs": [],
   "source": [
    "'''\n",
    "Nominal encoding, also known as label encoding, is preferred over one-hot encoding in certain situations where the categorical variable has a high cardinality \n",
    "or a large number of distinct categories. One-hot encoding can lead to a significant increase in the dimensionality of the dataset, resulting in a sparse \n",
    "matrix and potentially affecting the performance of the machine learning model.\n",
    "\n",
    "Here's a practical example where nominal encoding is preferred over one-hot encoding:\n",
    "\n",
    "Suppose you are working on a text classification task where the dataset contains a feature called \"City,\" representing the city of origin for a set of documents. \n",
    "The \"City\" feature has a large number of distinct categories, such as hundreds or thousands of unique cities.\n",
    "\n",
    "'''"
   ]
  },
  {
   "cell_type": "markdown",
   "id": "763dd9c7-8758-473a-b5a8-e24df7303a03",
   "metadata": {},
   "source": [
    "### Question 4"
   ]
  },
  {
   "cell_type": "code",
   "execution_count": null,
   "id": "1c1ed436-6e49-4aff-8247-e69f6e94a703",
   "metadata": {},
   "outputs": [],
   "source": [
    "'''\n",
    "I would prefer one-hot encoding.\n",
    "\n",
    "'''"
   ]
  },
  {
   "cell_type": "markdown",
   "id": "68442c5e-5da8-4974-af6a-317b387e523e",
   "metadata": {},
   "source": [
    "### Question 5"
   ]
  },
  {
   "cell_type": "code",
   "execution_count": null,
   "id": "d15d301a-9ad7-4e4f-a32a-5f159701b8e0",
   "metadata": {},
   "outputs": [],
   "source": [
    "'''\n",
    "Total no of new cols = (m-1) + (n-1)\n",
    "\n",
    "where, m = no of unique categories in first column\n",
    "and n = no of unique categories in second column\n",
    "\n",
    "'''"
   ]
  },
  {
   "cell_type": "markdown",
   "id": "b2230b1c-027a-4177-812a-c514d273e4a2",
   "metadata": {},
   "source": [
    "### Question 6"
   ]
  },
  {
   "cell_type": "code",
   "execution_count": null,
   "id": "f4760ba9-9d8d-45a8-8aba-d3ed0ca2f48a",
   "metadata": {},
   "outputs": [],
   "source": [
    "'''\n",
    "I would use label encoding. Because one hot encoding results in higher dimensional dataset\n",
    "\n",
    "'''"
   ]
  },
  {
   "cell_type": "markdown",
   "id": "f1dad1cc-2334-43a6-ae3e-a4ea34f8c465",
   "metadata": {},
   "source": [
    "### Question 7"
   ]
  },
  {
   "cell_type": "code",
   "execution_count": null,
   "id": "1bbcf5ee-8628-4745-be15-da85908e64b7",
   "metadata": {},
   "outputs": [],
   "source": [
    "'''\n",
    "For gender = one hot encoding, because only binary classes\n",
    "For age = label encoding, because many no of unique categories (i.e in range perhaps 18-100)\n",
    "contact types= one hot encoding, because there might be very few fixed types\n",
    "\n",
    "'''"
   ]
  }
 ],
 "metadata": {
  "kernelspec": {
   "display_name": "Python 3 (ipykernel)",
   "language": "python",
   "name": "python3"
  },
  "language_info": {
   "codemirror_mode": {
    "name": "ipython",
    "version": 3
   },
   "file_extension": ".py",
   "mimetype": "text/x-python",
   "name": "python",
   "nbconvert_exporter": "python",
   "pygments_lexer": "ipython3",
   "version": "3.10.8"
  }
 },
 "nbformat": 4,
 "nbformat_minor": 5
}
