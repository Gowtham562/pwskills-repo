{
 "cells": [
  {
   "cell_type": "markdown",
   "id": "23895378-d87e-4ed9-ae9c-dd8760aa7760",
   "metadata": {},
   "source": [
    "##Question 1\n"
   ]
  },
  {
   "cell_type": "code",
   "execution_count": null,
   "id": "e47aeef2-3d2f-498d-8061-aa3fce09b7ca",
   "metadata": {},
   "outputs": [],
   "source": [
    "'''\n",
    "Artificial Intelligence: The effort to automate intellectual tasks that are normally performed by humans\n",
    "\n",
    "Machine learning : The technique of Searching and finding the useful representations of data within a predefined space of possibilities using guidence from a feed back signal is called machine learning.\n",
    "\n",
    "Deep Learning: a multistage way to learn data representation is deep learning. It is a dicipline of the machine learning in which the feature extraction is done by its own.\n",
    "'''"
   ]
  },
  {
   "cell_type": "markdown",
   "id": "66688183-fff1-4a48-b863-34ed4b9dd379",
   "metadata": {},
   "source": [
    "##Question 2"
   ]
  },
  {
   "cell_type": "code",
   "execution_count": null,
   "id": "bc2b5dc0-27e7-4868-b241-17c3d46188a3",
   "metadata": {},
   "outputs": [],
   "source": [
    "'''\n",
    "Supervised learning is a type of machine learning where an algorithm learns from labeled data. In supervised learning, a dataset is provided that consists of input data (features) and corresponding output labels. The goal is for the algorithm to learn a mapping between the input and output pairs, enabling it to make predictions or classify new, unseen data.\n",
    "\n",
    "eg: decision tree, Knn, naive bayes, svm\n",
    "'''"
   ]
  },
  {
   "cell_type": "markdown",
   "id": "0c177fd5-06e5-4542-b949-e2887619de31",
   "metadata": {},
   "source": [
    "##Question 3"
   ]
  },
  {
   "cell_type": "code",
   "execution_count": null,
   "id": "2b236eb3-1035-4b19-b3f4-7778f80edc02",
   "metadata": {},
   "outputs": [],
   "source": [
    "'''\n",
    "Unsupervised learning is a type of machine learning where the algorithm learns patterns and relationships in the data without any labeled output. In unsupervised learning, the goal is to find the underlying structure or hidden patterns in the data.\n",
    "\n",
    "eg: k-means clustering, PCA\n",
    "'''"
   ]
  },
  {
   "cell_type": "markdown",
   "id": "0a31e253-a5f2-4db1-b43c-fd5d2e6dea11",
   "metadata": {},
   "source": [
    "##Question 4"
   ]
  },
  {
   "cell_type": "code",
   "execution_count": null,
   "id": "12ae8684-451e-4df9-b886-8e11ef9f664d",
   "metadata": {},
   "outputs": [],
   "source": [
    "'''\n",
    " AI refers to the broader field of creating intelligent machines that can simulate human intelligence \n",
    "\n",
    " ML is a subset of AI that focuses on developing algorithms and models that allow machines to learn from data and make predictions or take actions without being explicitly programmed\n",
    "\n",
    " DL is a subfield of ML that is inspired by the structure and function of the human brain's neural networks\n",
    " \n",
    " DS is an interdisciplinary field that combines elements of statistics, ML, and domain knowledge to extract insights and knowledge from data.\n",
    "'''"
   ]
  },
  {
   "cell_type": "markdown",
   "id": "b8cb869c-2544-4b96-956f-5a69a45e34bd",
   "metadata": {},
   "source": [
    "##Question 5"
   ]
  },
  {
   "cell_type": "code",
   "execution_count": null,
   "id": "866f622f-ca32-453d-a213-ebf669c93680",
   "metadata": {},
   "outputs": [],
   "source": [
    "'''\n",
    "Supervised learning uses labeled data with known input-output pairs to train a model and make predictions. Unsupervised learning deals with unlabeled data and focuses on \n",
    "finding patterns, structures, or clusters within the data. Semi-supervised learning combines both labeled and unlabeled data to improve model performance, leveraging the \n",
    "unlabeled data for better generalization. Supervised learning requires labeled data for training, while unsupervised learning doesn't rely on explicit labels. \n",
    "Semi-supervised learning is useful when labeled data is limited or expensive, utilizing the unlabeled data for additional information.\n",
    "'''"
   ]
  },
  {
   "cell_type": "markdown",
   "id": "b3151bd6-d657-43ea-a834-c5002562cf60",
   "metadata": {},
   "source": [
    "##Question 6"
   ]
  },
  {
   "cell_type": "code",
   "execution_count": null,
   "id": "33ae9926-d65c-4f1a-b33a-984589d37607",
   "metadata": {},
   "outputs": [],
   "source": [
    "'''\n",
    "Train Set: It is used to train the model, enabling it to learn patterns and relationships within the data.\n",
    "\n",
    "Test Set: It evaluates the performance and generalization of the trained model on unseen data, helping to assess its accuracy and identify potential issues.\n",
    "\n",
    "Validation Set: It aids in model selection and hyperparameter tuning, allowing for unbiased estimation of performance and preventing overfitting.\n",
    "\n",
    "'''"
   ]
  },
  {
   "cell_type": "markdown",
   "id": "d8d6045a-ae5d-4c94-9d16-28f604a1f721",
   "metadata": {},
   "source": [
    "##question 7"
   ]
  },
  {
   "cell_type": "code",
   "execution_count": null,
   "id": "c0cf91e8-eb5a-4da0-a54b-e7ad7c12d43d",
   "metadata": {},
   "outputs": [],
   "source": [
    "'''\n",
    "Unsupervised learning can be used in anomaly detection by:\n",
    "\n",
    "Identifying Normal Patterns: Unsupervised algorithms like clustering or density estimation can learn the underlying patterns and structures in the data without relying on labeled anomalies.\n",
    "Deviation Detection: By measuring the dissimilarity or distance of new data instances to the learned patterns, anomalies can be identified as instances that significantly deviate from the norm.\n",
    "Threshold Setting: A threshold can be determined to distinguish between normal and anomalous instances based on statistical measures, distance metrics, or domain knowledge.\n",
    "Real-time Monitoring: The trained model and threshold can be applied to new, unseen data to detect anomalies in real-time, triggering alerts or further investigation.\n",
    "Adaptability: Unsupervised methods are flexible and can adapt to evolving data patterns, making them suitable for detecting emerging anomalies or previously unseen types of anomalies.\n",
    "'''"
   ]
  },
  {
   "cell_type": "markdown",
   "id": "74b6cd68-18b4-4007-ad4a-596a78108bff",
   "metadata": {},
   "source": [
    "##Question 8"
   ]
  },
  {
   "cell_type": "code",
   "execution_count": null,
   "id": "41b31fe0-4254-4f52-9ba0-b21b37c50a38",
   "metadata": {},
   "outputs": [],
   "source": [
    "'''\n",
    "supervised: decision tree, Knn, naive bayes, svm\n",
    "\n",
    "unsupervised: k-means clustering, PCA\n",
    "'''"
   ]
  }
 ],
 "metadata": {
  "kernelspec": {
   "display_name": "Python 3 (ipykernel)",
   "language": "python",
   "name": "python3"
  },
  "language_info": {
   "codemirror_mode": {
    "name": "ipython",
    "version": 3
   },
   "file_extension": ".py",
   "mimetype": "text/x-python",
   "name": "python",
   "nbconvert_exporter": "python",
   "pygments_lexer": "ipython3",
   "version": "3.10.8"
  }
 },
 "nbformat": 4,
 "nbformat_minor": 5
}
